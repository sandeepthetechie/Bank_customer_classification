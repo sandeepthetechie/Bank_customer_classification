{
 "cells": [
  {
   "cell_type": "markdown",
   "metadata": {},
   "source": [
    "# Artificial Neural Network."
   ]
  },
  {
   "cell_type": "code",
   "execution_count": 1,
   "metadata": {},
   "outputs": [],
   "source": [
    "# Let's import the libraries required for preprocessing. \n",
    "\n",
    "import numpy as np\n",
    "import pandas as pd\n",
    "import tensorflow as tf "
   ]
  },
  {
   "cell_type": "code",
   "execution_count": 2,
   "metadata": {},
   "outputs": [
    {
     "data": {
      "text/plain": [
       "'2.0.0'"
      ]
     },
     "execution_count": 2,
     "metadata": {},
     "output_type": "execute_result"
    }
   ],
   "source": [
    "tf.__version__"
   ]
  },
  {
   "cell_type": "code",
   "execution_count": 4,
   "metadata": {},
   "outputs": [],
   "source": [
    "dataset = pd.read_csv(\"Churn_Modelling.csv\")\n",
    "X = dataset.iloc[:, 3:-1].values\n",
    "y = dataset.iloc[:, -1].values"
   ]
  },
  {
   "cell_type": "code",
   "execution_count": 5,
   "metadata": {},
   "outputs": [
    {
     "name": "stdout",
     "output_type": "stream",
     "text": [
      "[[619 'France' 'Female' ... 1 1 101348.88]\n",
      " [608 'Spain' 'Female' ... 0 1 112542.58]\n",
      " [502 'France' 'Female' ... 1 0 113931.57]\n",
      " ...\n",
      " [709 'France' 'Female' ... 0 1 42085.58]\n",
      " [772 'Germany' 'Male' ... 1 0 92888.52]\n",
      " [792 'France' 'Female' ... 1 0 38190.78]]\n"
     ]
    }
   ],
   "source": [
    "print(X)"
   ]
  },
  {
   "cell_type": "code",
   "execution_count": 6,
   "metadata": {},
   "outputs": [
    {
     "name": "stdout",
     "output_type": "stream",
     "text": [
      "[1 0 1 ... 1 1 0]\n"
     ]
    }
   ],
   "source": [
    "print(y)"
   ]
  },
  {
   "cell_type": "markdown",
   "metadata": {},
   "source": [
    "# Encoding Categorical Data. \n"
   ]
  },
  {
   "cell_type": "code",
   "execution_count": 8,
   "metadata": {},
   "outputs": [],
   "source": [
    "# Lets encode for gender. \n",
    "\n",
    "from sklearn.preprocessing import LabelEncoder\n",
    "le = LabelEncoder()\n",
    "X[:, 2] = le.fit_transform(X[:, 2])"
   ]
  },
  {
   "cell_type": "code",
   "execution_count": 10,
   "metadata": {},
   "outputs": [],
   "source": [
    "# Lets encode for the \"Geographical\" column \n",
    "from sklearn.compose import ColumnTransformer\n",
    "from sklearn.preprocessing import OneHotEncoder\n",
    "\n",
    "ct = ColumnTransformer(transformers=[(\"encoder\", OneHotEncoder() , [1])], remainder=\"passthrough\")\n",
    "X = np.array(ct.fit_transform(X))"
   ]
  },
  {
   "cell_type": "code",
   "execution_count": 11,
   "metadata": {},
   "outputs": [
    {
     "name": "stdout",
     "output_type": "stream",
     "text": [
      "[[1.0 0.0 0.0 ... 1 1 101348.88]\n",
      " [0.0 0.0 1.0 ... 0 1 112542.58]\n",
      " [1.0 0.0 0.0 ... 1 0 113931.57]\n",
      " ...\n",
      " [1.0 0.0 0.0 ... 0 1 42085.58]\n",
      " [0.0 1.0 0.0 ... 1 0 92888.52]\n",
      " [1.0 0.0 0.0 ... 1 0 38190.78]]\n"
     ]
    }
   ],
   "source": [
    "print(X)"
   ]
  },
  {
   "cell_type": "markdown",
   "metadata": {},
   "source": [
    "# Splitting the dataset into training and test. "
   ]
  },
  {
   "cell_type": "code",
   "execution_count": 12,
   "metadata": {},
   "outputs": [],
   "source": [
    "from sklearn.model_selection import train_test_split\n",
    "X_train, X_test, y_train, y_test  = train_test_split(X, y, test_size =0.2, random_state= 42)"
   ]
  },
  {
   "cell_type": "markdown",
   "metadata": {},
   "source": [
    "# Feature scaling. "
   ]
  },
  {
   "cell_type": "code",
   "execution_count": 13,
   "metadata": {},
   "outputs": [],
   "source": [
    "from sklearn.preprocessing import StandardScaler\n",
    "\n",
    "sc = StandardScaler()\n",
    "X_train = sc.fit_transform(X_train)\n",
    "X_test = sc.fit_transform(X_test)"
   ]
  },
  {
   "cell_type": "markdown",
   "metadata": {},
   "source": [
    "# Part 2\n",
    "\n",
    "# Building ANN. "
   ]
  },
  {
   "cell_type": "code",
   "execution_count": 15,
   "metadata": {},
   "outputs": [],
   "source": [
    "# Initializing ann. \n",
    "ann = tf.keras.models.Sequential()"
   ]
  },
  {
   "cell_type": "code",
   "execution_count": 16,
   "metadata": {},
   "outputs": [],
   "source": [
    "# Adding the first input layer and the first hidden layer. \n",
    "ann.add(tf.keras.layers.Dense(units= 6, activation= \"relu\"))"
   ]
  },
  {
   "cell_type": "code",
   "execution_count": 17,
   "metadata": {},
   "outputs": [],
   "source": [
    "#Adding second hidden layer. \n",
    "ann.add(tf.keras.layers.Dense(units= 6, activation= \"relu\"))"
   ]
  },
  {
   "cell_type": "code",
   "execution_count": 18,
   "metadata": {},
   "outputs": [],
   "source": [
    "#Adding the output layer. \n",
    "ann.add(tf.keras.layers.Dense(units =1, activation= 'sigmoid'))"
   ]
  },
  {
   "cell_type": "markdown",
   "metadata": {},
   "source": [
    "# Part 3"
   ]
  },
  {
   "cell_type": "markdown",
   "metadata": {},
   "source": [
    "# Training the ANN"
   ]
  },
  {
   "cell_type": "code",
   "execution_count": 21,
   "metadata": {},
   "outputs": [],
   "source": [
    "# Compliling the ann. \n",
    "ann.compile(optimizer='adam', loss='binary_crossentropy', metrics=['accuracy'])"
   ]
  },
  {
   "cell_type": "code",
   "execution_count": 22,
   "metadata": {},
   "outputs": [
    {
     "name": "stdout",
     "output_type": "stream",
     "text": [
      "Train on 8000 samples\n",
      "Epoch 1/100\n",
      "8000/8000 [==============================] - 3s 370us/sample - loss: 0.5893 - accuracy: 0.7487\n",
      "Epoch 2/100\n",
      "8000/8000 [==============================] - ETA: 0s - loss: 0.4726 - accuracy: 0.79 - 0s 62us/sample - loss: 0.4724 - accuracy: 0.7987\n",
      "Epoch 3/100\n",
      "8000/8000 [==============================] - 0s 62us/sample - loss: 0.4452 - accuracy: 0.8065\n",
      "Epoch 4/100\n",
      "8000/8000 [==============================] - 1s 71us/sample - loss: 0.4342 - accuracy: 0.8108\n",
      "Epoch 5/100\n",
      "8000/8000 [==============================] - 1s 89us/sample - loss: 0.4278 - accuracy: 0.8135\n",
      "Epoch 6/100\n",
      "8000/8000 [==============================] - 1s 77us/sample - loss: 0.4228 - accuracy: 0.8170\n",
      "Epoch 7/100\n",
      "8000/8000 [==============================] - 1s 72us/sample - loss: 0.4183 - accuracy: 0.8211\n",
      "Epoch 8/100\n",
      "8000/8000 [==============================] - 1s 74us/sample - loss: 0.4143 - accuracy: 0.8257\n",
      "Epoch 9/100\n",
      "8000/8000 [==============================] - 1s 73us/sample - loss: 0.4102 - accuracy: 0.8292\n",
      "Epoch 10/100\n",
      "8000/8000 [==============================] - 1s 64us/sample - loss: 0.4059 - accuracy: 0.8304\n",
      "Epoch 11/100\n",
      "8000/8000 [==============================] - 0s 58us/sample - loss: 0.4011 - accuracy: 0.8336\n",
      "Epoch 12/100\n",
      "8000/8000 [==============================] - 0s 57us/sample - loss: 0.3949 - accuracy: 0.8356\n",
      "Epoch 13/100\n",
      "8000/8000 [==============================] - 0s 57us/sample - loss: 0.3867 - accuracy: 0.8403\n",
      "Epoch 14/100\n",
      "8000/8000 [==============================] - 0s 59us/sample - loss: 0.3763 - accuracy: 0.8454\n",
      "Epoch 15/100\n",
      "8000/8000 [==============================] - 0s 62us/sample - loss: 0.3654 - accuracy: 0.8504\n",
      "Epoch 16/100\n",
      "8000/8000 [==============================] - 1s 64us/sample - loss: 0.3570 - accuracy: 0.8541\n",
      "Epoch 17/100\n",
      "8000/8000 [==============================] - 0s 62us/sample - loss: 0.3505 - accuracy: 0.8579\n",
      "Epoch 18/100\n",
      "8000/8000 [==============================] - 0s 59us/sample - loss: 0.3467 - accuracy: 0.8589\n",
      "Epoch 19/100\n",
      "8000/8000 [==============================] - 1s 71us/sample - loss: 0.3444 - accuracy: 0.8593\n",
      "Epoch 20/100\n",
      "8000/8000 [==============================] - 1s 67us/sample - loss: 0.3426 - accuracy: 0.8610\n",
      "Epoch 21/100\n",
      "8000/8000 [==============================] - 0s 59us/sample - loss: 0.3409 - accuracy: 0.8621\n",
      "Epoch 22/100\n",
      "8000/8000 [==============================] - 1s 66us/sample - loss: 0.3404 - accuracy: 0.8622\n",
      "Epoch 23/100\n",
      "8000/8000 [==============================] - 1s 67us/sample - loss: 0.3396 - accuracy: 0.8616\n",
      "Epoch 24/100\n",
      "8000/8000 [==============================] - 1s 67us/sample - loss: 0.3387 - accuracy: 0.8621s - loss: 0.3496 - \n",
      "Epoch 25/100\n",
      "8000/8000 [==============================] - 1s 70us/sample - loss: 0.3387 - accuracy: 0.8610\n",
      "Epoch 26/100\n",
      "8000/8000 [==============================] - 1s 65us/sample - loss: 0.3380 - accuracy: 0.8612\n",
      "Epoch 27/100\n",
      "8000/8000 [==============================] - 1s 66us/sample - loss: 0.3376 - accuracy: 0.8624\n",
      "Epoch 28/100\n",
      "8000/8000 [==============================] - 1s 72us/sample - loss: 0.3372 - accuracy: 0.8622\n",
      "Epoch 29/100\n",
      "8000/8000 [==============================] - 1s 67us/sample - loss: 0.3369 - accuracy: 0.8618\n",
      "Epoch 30/100\n",
      "8000/8000 [==============================] - 1s 63us/sample - loss: 0.3369 - accuracy: 0.8636\n",
      "Epoch 31/100\n",
      "8000/8000 [==============================] - 0s 61us/sample - loss: 0.3367 - accuracy: 0.8643\n",
      "Epoch 32/100\n",
      "8000/8000 [==============================] - 1s 64us/sample - loss: 0.3366 - accuracy: 0.8614\n",
      "Epoch 33/100\n",
      "8000/8000 [==============================] - 1s 65us/sample - loss: 0.3360 - accuracy: 0.8611\n",
      "Epoch 34/100\n",
      "8000/8000 [==============================] - 1s 71us/sample - loss: 0.3358 - accuracy: 0.8619\n",
      "Epoch 35/100\n",
      "8000/8000 [==============================] - 1s 64us/sample - loss: 0.3361 - accuracy: 0.8614\n",
      "Epoch 36/100\n",
      "8000/8000 [==============================] - 0s 61us/sample - loss: 0.3357 - accuracy: 0.8610\n",
      "Epoch 37/100\n",
      "8000/8000 [==============================] - 0s 62us/sample - loss: 0.3354 - accuracy: 0.8630\n",
      "Epoch 38/100\n",
      "8000/8000 [==============================] - 0s 62us/sample - loss: 0.3353 - accuracy: 0.8619\n",
      "Epoch 39/100\n",
      "8000/8000 [==============================] - 0s 62us/sample - loss: 0.3353 - accuracy: 0.8625\n",
      "Epoch 40/100\n",
      "8000/8000 [==============================] - 1s 63us/sample - loss: 0.3351 - accuracy: 0.8625\n",
      "Epoch 41/100\n",
      "8000/8000 [==============================] - 1s 64us/sample - loss: 0.3349 - accuracy: 0.8622\n",
      "Epoch 42/100\n",
      "8000/8000 [==============================] - 1s 66us/sample - loss: 0.3349 - accuracy: 0.8615\n",
      "Epoch 43/100\n",
      "8000/8000 [==============================] - 1s 74us/sample - loss: 0.3349 - accuracy: 0.8622\n",
      "Epoch 44/100\n",
      "8000/8000 [==============================] - 1s 69us/sample - loss: 0.3346 - accuracy: 0.8627\n",
      "Epoch 45/100\n",
      "8000/8000 [==============================] - 0s 53us/sample - loss: 0.3346 - accuracy: 0.8616\n",
      "Epoch 46/100\n",
      "8000/8000 [==============================] - 0s 54us/sample - loss: 0.3342 - accuracy: 0.8616\n",
      "Epoch 47/100\n",
      "8000/8000 [==============================] - 0s 53us/sample - loss: 0.3343 - accuracy: 0.8629\n",
      "Epoch 48/100\n",
      "8000/8000 [==============================] - 0s 53us/sample - loss: 0.3342 - accuracy: 0.8629\n",
      "Epoch 49/100\n",
      "8000/8000 [==============================] - 0s 53us/sample - loss: 0.3339 - accuracy: 0.8622\n",
      "Epoch 50/100\n",
      "8000/8000 [==============================] - 0s 52us/sample - loss: 0.3336 - accuracy: 0.8629\n",
      "Epoch 51/100\n",
      "8000/8000 [==============================] - 0s 61us/sample - loss: 0.3339 - accuracy: 0.8633\n",
      "Epoch 52/100\n",
      "8000/8000 [==============================] - 0s 58us/sample - loss: 0.3339 - accuracy: 0.8624\n",
      "Epoch 53/100\n",
      "8000/8000 [==============================] - 0s 59us/sample - loss: 0.3336 - accuracy: 0.8624\n",
      "Epoch 54/100\n",
      "8000/8000 [==============================] - 0s 61us/sample - loss: 0.3335 - accuracy: 0.8618\n",
      "Epoch 55/100\n",
      "8000/8000 [==============================] - 1s 68us/sample - loss: 0.3334 - accuracy: 0.8621s - loss: 0.3288 \n",
      "Epoch 56/100\n",
      "8000/8000 [==============================] - 0s 57us/sample - loss: 0.3338 - accuracy: 0.8624\n",
      "Epoch 57/100\n",
      "8000/8000 [==============================] - 0s 56us/sample - loss: 0.3332 - accuracy: 0.8631\n",
      "Epoch 58/100\n",
      "8000/8000 [==============================] - 0s 56us/sample - loss: 0.3330 - accuracy: 0.8624\n",
      "Epoch 59/100\n",
      "8000/8000 [==============================] - 0s 58us/sample - loss: 0.3330 - accuracy: 0.8626\n",
      "Epoch 60/100\n",
      "8000/8000 [==============================] - 0s 53us/sample - loss: 0.3331 - accuracy: 0.8610\n",
      "Epoch 61/100\n",
      "8000/8000 [==============================] - 0s 53us/sample - loss: 0.3329 - accuracy: 0.8620\n",
      "Epoch 62/100\n",
      "8000/8000 [==============================] - 0s 53us/sample - loss: 0.3330 - accuracy: 0.8625\n",
      "Epoch 63/100\n",
      "8000/8000 [==============================] - 0s 53us/sample - loss: 0.3329 - accuracy: 0.8625\n",
      "Epoch 64/100\n",
      "8000/8000 [==============================] - 0s 52us/sample - loss: 0.3328 - accuracy: 0.8619\n",
      "Epoch 65/100\n",
      "8000/8000 [==============================] - 0s 60us/sample - loss: 0.3322 - accuracy: 0.8634\n",
      "Epoch 66/100\n",
      "8000/8000 [==============================] - 1s 79us/sample - loss: 0.3324 - accuracy: 0.8622\n",
      "Epoch 67/100\n",
      "8000/8000 [==============================] - 1s 76us/sample - loss: 0.3329 - accuracy: 0.8627\n",
      "Epoch 68/100\n",
      "8000/8000 [==============================] - 1s 70us/sample - loss: 0.3329 - accuracy: 0.8637\n",
      "Epoch 69/100\n",
      "8000/8000 [==============================] - 0s 62us/sample - loss: 0.3323 - accuracy: 0.8624\n",
      "Epoch 70/100\n",
      "8000/8000 [==============================] - 1s 65us/sample - loss: 0.3321 - accuracy: 0.8630\n",
      "Epoch 71/100\n",
      "8000/8000 [==============================] - 0s 62us/sample - loss: 0.3326 - accuracy: 0.8612\n",
      "Epoch 72/100\n",
      "8000/8000 [==============================] - 0s 62us/sample - loss: 0.3320 - accuracy: 0.8641\n",
      "Epoch 73/100\n",
      "8000/8000 [==============================] - 0s 59us/sample - loss: 0.3318 - accuracy: 0.8630\n",
      "Epoch 74/100\n",
      "8000/8000 [==============================] - 0s 58us/sample - loss: 0.3322 - accuracy: 0.8615\n",
      "Epoch 75/100\n",
      "8000/8000 [==============================] - 0s 59us/sample - loss: 0.3319 - accuracy: 0.8625\n",
      "Epoch 76/100\n"
     ]
    },
    {
     "name": "stdout",
     "output_type": "stream",
     "text": [
      "8000/8000 [==============================] - 0s 58us/sample - loss: 0.3321 - accuracy: 0.8629\n",
      "Epoch 77/100\n",
      "8000/8000 [==============================] - 0s 58us/sample - loss: 0.3318 - accuracy: 0.8630s - loss: 0.3305 - accuracy: 0.86\n",
      "Epoch 78/100\n",
      "8000/8000 [==============================] - 0s 57us/sample - loss: 0.3320 - accuracy: 0.8625\n",
      "Epoch 79/100\n",
      "8000/8000 [==============================] - 0s 62us/sample - loss: 0.3319 - accuracy: 0.8621\n",
      "Epoch 80/100\n",
      "8000/8000 [==============================] - 0s 59us/sample - loss: 0.3316 - accuracy: 0.8621\n",
      "Epoch 81/100\n",
      "8000/8000 [==============================] - 0s 58us/sample - loss: 0.3321 - accuracy: 0.8621\n",
      "Epoch 82/100\n",
      "8000/8000 [==============================] - 0s 61us/sample - loss: 0.3315 - accuracy: 0.8629\n",
      "Epoch 83/100\n",
      "8000/8000 [==============================] - 0s 57us/sample - loss: 0.3318 - accuracy: 0.8622\n",
      "Epoch 84/100\n",
      "8000/8000 [==============================] - 1s 64us/sample - loss: 0.3314 - accuracy: 0.8637\n",
      "Epoch 85/100\n",
      "8000/8000 [==============================] - 0s 59us/sample - loss: 0.3316 - accuracy: 0.8636\n",
      "Epoch 86/100\n",
      "8000/8000 [==============================] - 0s 61us/sample - loss: 0.3313 - accuracy: 0.8636\n",
      "Epoch 87/100\n",
      "8000/8000 [==============================] - 0s 59us/sample - loss: 0.3312 - accuracy: 0.8618\n",
      "Epoch 88/100\n",
      "8000/8000 [==============================] - 0s 62us/sample - loss: 0.3313 - accuracy: 0.8612\n",
      "Epoch 89/100\n",
      "8000/8000 [==============================] - 0s 60us/sample - loss: 0.3314 - accuracy: 0.8626\n",
      "Epoch 90/100\n",
      "8000/8000 [==============================] - 1s 66us/sample - loss: 0.3313 - accuracy: 0.8630\n",
      "Epoch 91/100\n",
      "8000/8000 [==============================] - 0s 58us/sample - loss: 0.3311 - accuracy: 0.8627\n",
      "Epoch 92/100\n",
      "8000/8000 [==============================] - 0s 59us/sample - loss: 0.3311 - accuracy: 0.8631\n",
      "Epoch 93/100\n",
      "8000/8000 [==============================] - 1s 66us/sample - loss: 0.3313 - accuracy: 0.8630\n",
      "Epoch 94/100\n",
      "8000/8000 [==============================] - 0s 61us/sample - loss: 0.3312 - accuracy: 0.8631\n",
      "Epoch 95/100\n",
      "8000/8000 [==============================] - 0s 60us/sample - loss: 0.3311 - accuracy: 0.8626\n",
      "Epoch 96/100\n",
      "8000/8000 [==============================] - 0s 59us/sample - loss: 0.3315 - accuracy: 0.8615\n",
      "Epoch 97/100\n",
      "8000/8000 [==============================] - 1s 66us/sample - loss: 0.3308 - accuracy: 0.8633\n",
      "Epoch 98/100\n",
      "8000/8000 [==============================] - 1s 68us/sample - loss: 0.3313 - accuracy: 0.8635\n",
      "Epoch 99/100\n",
      "8000/8000 [==============================] - 1s 63us/sample - loss: 0.3312 - accuracy: 0.8627\n",
      "Epoch 100/100\n",
      "8000/8000 [==============================] - 1s 67us/sample - loss: 0.3309 - accuracy: 0.8629\n"
     ]
    },
    {
     "data": {
      "text/plain": [
       "<tensorflow.python.keras.callbacks.History at 0x27b45e86828>"
      ]
     },
     "execution_count": 22,
     "metadata": {},
     "output_type": "execute_result"
    }
   ],
   "source": [
    "# training ANN on the training set. \n",
    "ann.fit(X_train,y_train, batch_size=32, epochs= 100)"
   ]
  },
  {
   "cell_type": "markdown",
   "metadata": {},
   "source": [
    "# Part 4 \n",
    "\n",
    "# Making predictions and evaluating the model. "
   ]
  },
  {
   "cell_type": "code",
   "execution_count": 23,
   "metadata": {},
   "outputs": [
    {
     "name": "stdout",
     "output_type": "stream",
     "text": [
      "[[False]]\n"
     ]
    }
   ],
   "source": [
    "# Lets predict on a row\n",
    "\n",
    "print(ann.predict(sc.transform([[1, 0, 0, 600, 1, 40, 3, 60000, 2, 1, 1, 50000]])) > 0.5)"
   ]
  },
  {
   "cell_type": "markdown",
   "metadata": {},
   "source": [
    "# Predicting on test set results. "
   ]
  },
  {
   "cell_type": "code",
   "execution_count": 24,
   "metadata": {},
   "outputs": [
    {
     "name": "stdout",
     "output_type": "stream",
     "text": [
      "[[0 0]\n",
      " [0 0]\n",
      " [0 0]\n",
      " ...\n",
      " [1 1]\n",
      " [0 1]\n",
      " [0 1]]\n"
     ]
    }
   ],
   "source": [
    "y_pred = ann.predict(X_test)\n",
    "y_pred = (y_pred > 0.5)\n",
    "print(np.concatenate((y_pred.reshape(len(y_pred),1), y_test.reshape(len(y_test),1)),1))"
   ]
  },
  {
   "cell_type": "markdown",
   "metadata": {},
   "source": [
    "# Confusion Matrix"
   ]
  },
  {
   "cell_type": "code",
   "execution_count": 25,
   "metadata": {},
   "outputs": [
    {
     "name": "stdout",
     "output_type": "stream",
     "text": [
      "[[1554   53]\n",
      " [ 211  182]]\n"
     ]
    },
    {
     "data": {
      "text/plain": [
       "0.868"
      ]
     },
     "execution_count": 25,
     "metadata": {},
     "output_type": "execute_result"
    }
   ],
   "source": [
    "from sklearn.metrics import confusion_matrix, accuracy_score\n",
    "cm = confusion_matrix(y_test, y_pred)\n",
    "print(cm)\n",
    "accuracy_score(y_test, y_pred)"
   ]
  }
 ],
 "metadata": {
  "kernelspec": {
   "display_name": "Python 3",
   "language": "python",
   "name": "python3"
  },
  "language_info": {
   "codemirror_mode": {
    "name": "ipython",
    "version": 3
   },
   "file_extension": ".py",
   "mimetype": "text/x-python",
   "name": "python",
   "nbconvert_exporter": "python",
   "pygments_lexer": "ipython3",
   "version": "3.7.3"
  }
 },
 "nbformat": 4,
 "nbformat_minor": 2
}
